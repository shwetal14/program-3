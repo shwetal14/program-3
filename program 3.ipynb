{
 "cells": [
  {
   "cell_type": "code",
   "execution_count": 3,
   "id": "4c8cb4a4",
   "metadata": {},
   "outputs": [
    {
     "name": "stdout",
     "output_type": "stream",
     "text": [
      "Number of even no.s :  4\n",
      "Number of odd no.s :  5\n"
     ]
    }
   ],
   "source": [
    "\n",
    "list = [1, 2, 3, 4, 5, 6, 7, 8, 9]\n",
    "  \n",
    "even_count,odd_count = 0, 0\n",
    "num = 0    \n",
    "\n",
    "while(num < len(list)):\n",
    "   \n",
    "    if list[num] % 2 == 0:\n",
    "        even_count += 1\n",
    "    else:\n",
    "        odd_count += 1\n",
    "      \n",
    "\n",
    "    num += 1\n",
    "      \n",
    "print(\"Number of even no.s : \", even_count)\n",
    "print(\"Number of odd no.s : \" , odd_count)  \n"
   ]
  },
  {
   "cell_type": "code",
   "execution_count": null,
   "id": "63726c34",
   "metadata": {},
   "outputs": [],
   "source": []
  },
  {
   "cell_type": "code",
   "execution_count": null,
   "id": "1dd1d00c",
   "metadata": {},
   "outputs": [],
   "source": []
  },
  {
   "cell_type": "code",
   "execution_count": null,
   "id": "e9999968",
   "metadata": {},
   "outputs": [],
   "source": []
  },
  {
   "cell_type": "code",
   "execution_count": null,
   "id": "48d40412",
   "metadata": {},
   "outputs": [],
   "source": []
  }
 ],
 "metadata": {
  "kernelspec": {
   "display_name": "Python 3 (ipykernel)",
   "language": "python",
   "name": "python3"
  },
  "language_info": {
   "codemirror_mode": {
    "name": "ipython",
    "version": 3
   },
   "file_extension": ".py",
   "mimetype": "text/x-python",
   "name": "python",
   "nbconvert_exporter": "python",
   "pygments_lexer": "ipython3",
   "version": "3.9.7"
  }
 },
 "nbformat": 4,
 "nbformat_minor": 5
}
